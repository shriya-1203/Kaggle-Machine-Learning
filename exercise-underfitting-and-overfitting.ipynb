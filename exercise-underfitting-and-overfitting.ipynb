{
 "cells": [
  {
   "cell_type": "markdown",
   "id": "4a502d2c",
   "metadata": {
    "papermill": {
     "duration": 0.003503,
     "end_time": "2025-09-01T15:23:38.728941",
     "exception": false,
     "start_time": "2025-09-01T15:23:38.725438",
     "status": "completed"
    },
    "tags": []
   },
   "source": [
    "**This notebook is an exercise in the [Introduction to Machine Learning](https://www.kaggle.com/learn/intro-to-machine-learning) course.  You can reference the tutorial at [this link](https://www.kaggle.com/dansbecker/underfitting-and-overfitting).**\n",
    "\n",
    "---\n"
   ]
  },
  {
   "cell_type": "markdown",
   "id": "23cd1924",
   "metadata": {
    "papermill": {
     "duration": 0.002487,
     "end_time": "2025-09-01T15:23:38.734666",
     "exception": false,
     "start_time": "2025-09-01T15:23:38.732179",
     "status": "completed"
    },
    "tags": []
   },
   "source": [
    "## Recap\n",
    "You've built your first model, and now it's time to optimize the size of the tree to make better predictions. Run this cell to set up your coding environment where the previous step left off."
   ]
  },
  {
   "cell_type": "code",
   "execution_count": 1,
   "id": "d1ea78ca",
   "metadata": {
    "execution": {
     "iopub.execute_input": "2025-09-01T15:23:38.741757Z",
     "iopub.status.busy": "2025-09-01T15:23:38.741406Z",
     "iopub.status.idle": "2025-09-01T15:23:42.470504Z",
     "shell.execute_reply": "2025-09-01T15:23:42.469476Z"
    },
    "papermill": {
     "duration": 3.734598,
     "end_time": "2025-09-01T15:23:42.471991",
     "exception": false,
     "start_time": "2025-09-01T15:23:38.737393",
     "status": "completed"
    },
    "tags": []
   },
   "outputs": [
    {
     "name": "stdout",
     "output_type": "stream",
     "text": [
      "Validation MAE: 29,653\n",
      "\n",
      "Setup complete\n"
     ]
    }
   ],
   "source": [
    "# Code you have previously used to load data\n",
    "import pandas as pd\n",
    "from sklearn.metrics import mean_absolute_error\n",
    "from sklearn.model_selection import train_test_split\n",
    "from sklearn.tree import DecisionTreeRegressor\n",
    "\n",
    "\n",
    "# Path of the file to read\n",
    "iowa_file_path = '../input/home-data-for-ml-course/train.csv'\n",
    "\n",
    "home_data = pd.read_csv(iowa_file_path)\n",
    "# Create target object and call it y\n",
    "y = home_data.SalePrice\n",
    "# Create X\n",
    "features = ['LotArea', 'YearBuilt', '1stFlrSF', '2ndFlrSF', 'FullBath', 'BedroomAbvGr', 'TotRmsAbvGrd']\n",
    "X = home_data[features]\n",
    "\n",
    "# Split into validation and training data\n",
    "train_X, val_X, train_y, val_y = train_test_split(X, y, random_state=1)\n",
    "\n",
    "# Specify Model\n",
    "iowa_model = DecisionTreeRegressor(random_state=1)\n",
    "# Fit Model\n",
    "iowa_model.fit(train_X, train_y)\n",
    "\n",
    "# Make validation predictions and calculate mean absolute error\n",
    "val_predictions = iowa_model.predict(val_X)\n",
    "val_mae = mean_absolute_error(val_predictions, val_y)\n",
    "print(\"Validation MAE: {:,.0f}\".format(val_mae))\n",
    "\n",
    "# Set up code checking\n",
    "from learntools.core import binder\n",
    "binder.bind(globals())\n",
    "from learntools.machine_learning.ex5 import *\n",
    "print(\"\\nSetup complete\")"
   ]
  },
  {
   "cell_type": "markdown",
   "id": "1dbe8999",
   "metadata": {
    "papermill": {
     "duration": 0.002777,
     "end_time": "2025-09-01T15:23:42.477813",
     "exception": false,
     "start_time": "2025-09-01T15:23:42.475036",
     "status": "completed"
    },
    "tags": []
   },
   "source": [
    "# Exercises\n",
    "You could write the function `get_mae` yourself. For now, we'll supply it. This is the same function you read about in the previous lesson. Just run the cell below."
   ]
  },
  {
   "cell_type": "code",
   "execution_count": 2,
   "id": "cc5ab8cf",
   "metadata": {
    "execution": {
     "iopub.execute_input": "2025-09-01T15:23:42.485224Z",
     "iopub.status.busy": "2025-09-01T15:23:42.484321Z",
     "iopub.status.idle": "2025-09-01T15:23:42.489785Z",
     "shell.execute_reply": "2025-09-01T15:23:42.488806Z"
    },
    "papermill": {
     "duration": 0.010666,
     "end_time": "2025-09-01T15:23:42.491274",
     "exception": false,
     "start_time": "2025-09-01T15:23:42.480608",
     "status": "completed"
    },
    "tags": []
   },
   "outputs": [],
   "source": [
    "def get_mae(max_leaf_nodes, train_X, val_X, train_y, val_y):\n",
    "    model = DecisionTreeRegressor(max_leaf_nodes=max_leaf_nodes, random_state=0)\n",
    "    model.fit(train_X, train_y)\n",
    "    preds_val = model.predict(val_X)\n",
    "    mae = mean_absolute_error(val_y, preds_val)\n",
    "    return(mae)"
   ]
  },
  {
   "cell_type": "markdown",
   "id": "17b8896f",
   "metadata": {
    "papermill": {
     "duration": 0.002636,
     "end_time": "2025-09-01T15:23:42.496857",
     "exception": false,
     "start_time": "2025-09-01T15:23:42.494221",
     "status": "completed"
    },
    "tags": []
   },
   "source": [
    "## Step 1: Compare Different Tree Sizes\n",
    "Write a loop that tries the following values for *max_leaf_nodes* from a set of possible values.\n",
    "\n",
    "Call the *get_mae* function on each value of max_leaf_nodes. Store the output in some way that allows you to select the value of `max_leaf_nodes` that gives the most accurate model on your data."
   ]
  },
  {
   "cell_type": "code",
   "execution_count": 3,
   "id": "93f1df65",
   "metadata": {
    "execution": {
     "iopub.execute_input": "2025-09-01T15:23:42.504093Z",
     "iopub.status.busy": "2025-09-01T15:23:42.503443Z",
     "iopub.status.idle": "2025-09-01T15:23:42.552696Z",
     "shell.execute_reply": "2025-09-01T15:23:42.551788Z"
    },
    "papermill": {
     "duration": 0.054752,
     "end_time": "2025-09-01T15:23:42.554329",
     "exception": false,
     "start_time": "2025-09-01T15:23:42.499577",
     "status": "completed"
    },
    "tags": []
   },
   "outputs": [
    {
     "data": {
      "application/javascript": [
       "parent.postMessage({\"jupyterEvent\": \"custom.exercise_interaction\", \"data\": {\"outcomeType\": 1, \"valueTowardsCompletion\": 0.5, \"interactionType\": 1, \"questionType\": 1, \"questionId\": \"1_BestTreeSize\", \"learnToolsVersion\": \"0.3.5\", \"failureMessage\": \"\", \"exceptionClass\": \"\", \"trace\": \"\"}}, \"*\")"
      ],
      "text/plain": [
       "<IPython.core.display.Javascript object>"
      ]
     },
     "metadata": {},
     "output_type": "display_data"
    },
    {
     "data": {
      "text/markdown": [
       "<span style=\"color:#33cc33\">Correct</span>"
      ],
      "text/plain": [
       "Correct"
      ]
     },
     "metadata": {},
     "output_type": "display_data"
    }
   ],
   "source": [
    "candidate_max_leaf_nodes = [5, 25, 50, 100, 250, 500]\n",
    "# Write loop to find the ideal tree size from candidate_max_leaf_nodes\n",
    "scores = {leaf_size: get_mae(leaf_size, train_X, val_X, train_y, val_y)\n",
    "for leaf_size in candidate_max_leaf_nodes}\n",
    "\n",
    "# Store the best value of max_leaf_nodes (it will be either 5, 25, 50, 100, 250 or 500)\n",
    "best_tree_size = min(scores, key=scores.get)\n",
    "\n",
    "# Check your answer\n",
    "step_1.check()"
   ]
  },
  {
   "cell_type": "code",
   "execution_count": 4,
   "id": "bd087e6f",
   "metadata": {
    "execution": {
     "iopub.execute_input": "2025-09-01T15:23:42.561857Z",
     "iopub.status.busy": "2025-09-01T15:23:42.561489Z",
     "iopub.status.idle": "2025-09-01T15:23:42.565534Z",
     "shell.execute_reply": "2025-09-01T15:23:42.564589Z"
    },
    "papermill": {
     "duration": 0.009551,
     "end_time": "2025-09-01T15:23:42.567084",
     "exception": false,
     "start_time": "2025-09-01T15:23:42.557533",
     "status": "completed"
    },
    "tags": []
   },
   "outputs": [],
   "source": [
    "# The lines below will show you a hint or the solution.\n",
    "# step_1.hint() \n",
    "# step_1.solution()"
   ]
  },
  {
   "cell_type": "markdown",
   "id": "08c74566",
   "metadata": {
    "papermill": {
     "duration": 0.002895,
     "end_time": "2025-09-01T15:23:42.573361",
     "exception": false,
     "start_time": "2025-09-01T15:23:42.570466",
     "status": "completed"
    },
    "tags": []
   },
   "source": [
    "## Step 2: Fit Model Using All Data\n",
    "You know the best tree size. If you were going to deploy this model in practice, you would make it even more accurate by using all of the data and keeping that tree size.  That is, you don't need to hold out the validation data now that you've made all your modeling decisions."
   ]
  },
  {
   "cell_type": "code",
   "execution_count": 5,
   "id": "013fd270",
   "metadata": {
    "execution": {
     "iopub.execute_input": "2025-09-01T15:23:42.580795Z",
     "iopub.status.busy": "2025-09-01T15:23:42.580427Z",
     "iopub.status.idle": "2025-09-01T15:23:42.596400Z",
     "shell.execute_reply": "2025-09-01T15:23:42.595503Z"
    },
    "papermill": {
     "duration": 0.021403,
     "end_time": "2025-09-01T15:23:42.597940",
     "exception": false,
     "start_time": "2025-09-01T15:23:42.576537",
     "status": "completed"
    },
    "tags": []
   },
   "outputs": [
    {
     "data": {
      "application/javascript": [
       "parent.postMessage({\"jupyterEvent\": \"custom.exercise_interaction\", \"data\": {\"outcomeType\": 1, \"valueTowardsCompletion\": 0.5, \"interactionType\": 1, \"questionType\": 2, \"questionId\": \"2_FitModelWithAllData\", \"learnToolsVersion\": \"0.3.5\", \"failureMessage\": \"\", \"exceptionClass\": \"\", \"trace\": \"\"}}, \"*\")"
      ],
      "text/plain": [
       "<IPython.core.display.Javascript object>"
      ]
     },
     "metadata": {},
     "output_type": "display_data"
    },
    {
     "data": {
      "text/markdown": [
       "<span style=\"color:#33cc33\">Correct</span>"
      ],
      "text/plain": [
       "Correct"
      ]
     },
     "metadata": {},
     "output_type": "display_data"
    }
   ],
   "source": [
    "# Fill in argument to make optimal size and uncomment\n",
    "final_model = DecisionTreeRegressor(max_leaf_nodes=best_tree_size, random_state=1)\n",
    "\n",
    "# fit the final model and uncomment the next two lines\n",
    "final_model.fit(X, y)\n",
    "\n",
    "# Check your answer\n",
    "step_2.check()"
   ]
  },
  {
   "cell_type": "code",
   "execution_count": 6,
   "id": "9d0a960b",
   "metadata": {
    "execution": {
     "iopub.execute_input": "2025-09-01T15:23:42.605728Z",
     "iopub.status.busy": "2025-09-01T15:23:42.605412Z",
     "iopub.status.idle": "2025-09-01T15:23:42.609368Z",
     "shell.execute_reply": "2025-09-01T15:23:42.608533Z"
    },
    "papermill": {
     "duration": 0.009357,
     "end_time": "2025-09-01T15:23:42.610774",
     "exception": false,
     "start_time": "2025-09-01T15:23:42.601417",
     "status": "completed"
    },
    "tags": []
   },
   "outputs": [],
   "source": [
    "# step_2.hint()\n",
    "# step_2.solution()"
   ]
  },
  {
   "cell_type": "markdown",
   "id": "9dc34c3e",
   "metadata": {
    "papermill": {
     "duration": 0.003212,
     "end_time": "2025-09-01T15:23:42.617646",
     "exception": false,
     "start_time": "2025-09-01T15:23:42.614434",
     "status": "completed"
    },
    "tags": []
   },
   "source": [
    "You've tuned this model and improved your results. But we are still using Decision Tree models, which are not very sophisticated by modern machine learning standards. In the next step you will learn to use Random Forests to improve your models even more.\n",
    "\n",
    "# Keep Going\n",
    "\n",
    "You are ready for **[Random Forests](https://www.kaggle.com/dansbecker/random-forests).**\n"
   ]
  },
  {
   "cell_type": "markdown",
   "id": "46262109",
   "metadata": {
    "papermill": {
     "duration": 0.00303,
     "end_time": "2025-09-01T15:23:42.623998",
     "exception": false,
     "start_time": "2025-09-01T15:23:42.620968",
     "status": "completed"
    },
    "tags": []
   },
   "source": [
    "---\n",
    "\n",
    "\n",
    "\n",
    "\n",
    "*Have questions or comments? Visit the [course discussion forum](https://www.kaggle.com/learn/intro-to-machine-learning/discussion) to chat with other learners.*"
   ]
  }
 ],
 "metadata": {
  "kaggle": {
   "accelerator": "none",
   "dataSources": [
    {
     "databundleVersionId": 111096,
     "sourceId": 10211,
     "sourceType": "competition"
    },
    {
     "datasetId": 11167,
     "sourceId": 15520,
     "sourceType": "datasetVersion"
    },
    {
     "datasetId": 2709,
     "sourceId": 38454,
     "sourceType": "datasetVersion"
    }
   ],
   "isGpuEnabled": false,
   "isInternetEnabled": false,
   "language": "python",
   "sourceType": "notebook"
  },
  "kernelspec": {
   "display_name": "Python 3",
   "language": "python",
   "name": "python3"
  },
  "language_info": {
   "codemirror_mode": {
    "name": "ipython",
    "version": 3
   },
   "file_extension": ".py",
   "mimetype": "text/x-python",
   "name": "python",
   "nbconvert_exporter": "python",
   "pygments_lexer": "ipython3",
   "version": "3.11.13"
  },
  "papermill": {
   "default_parameters": {},
   "duration": 10.088687,
   "end_time": "2025-09-01T15:23:43.247358",
   "environment_variables": {},
   "exception": null,
   "input_path": "__notebook__.ipynb",
   "output_path": "__notebook__.ipynb",
   "parameters": {},
   "start_time": "2025-09-01T15:23:33.158671",
   "version": "2.6.0"
  }
 },
 "nbformat": 4,
 "nbformat_minor": 5
}
