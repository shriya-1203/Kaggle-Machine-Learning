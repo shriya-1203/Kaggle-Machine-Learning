{
 "cells": [
  {
   "cell_type": "markdown",
   "id": "c83b3f5a",
   "metadata": {
    "papermill": {
     "duration": 0.004236,
     "end_time": "2025-09-01T15:26:06.885127",
     "exception": false,
     "start_time": "2025-09-01T15:26:06.880891",
     "status": "completed"
    },
    "tags": []
   },
   "source": [
    "**This notebook is an exercise in the [Introduction to Machine Learning](https://www.kaggle.com/learn/intro-to-machine-learning) course.  You can reference the tutorial at [this link](https://www.kaggle.com/dansbecker/model-validation).**\n",
    "\n",
    "---\n"
   ]
  },
  {
   "cell_type": "markdown",
   "id": "926c1311",
   "metadata": {
    "papermill": {
     "duration": 0.003131,
     "end_time": "2025-09-01T15:26:06.891916",
     "exception": false,
     "start_time": "2025-09-01T15:26:06.888785",
     "status": "completed"
    },
    "tags": []
   },
   "source": [
    "## Recap\n",
    "You've built a model. In this exercise you will test how good your model is.\n",
    "\n",
    "Run the cell below to set up your coding environment where the previous exercise left off."
   ]
  },
  {
   "cell_type": "code",
   "execution_count": 1,
   "id": "1bb8934f",
   "metadata": {
    "execution": {
     "iopub.execute_input": "2025-09-01T15:26:06.900666Z",
     "iopub.status.busy": "2025-09-01T15:26:06.899738Z",
     "iopub.status.idle": "2025-09-01T15:26:10.682377Z",
     "shell.execute_reply": "2025-09-01T15:26:10.681046Z"
    },
    "papermill": {
     "duration": 3.788882,
     "end_time": "2025-09-01T15:26:10.684235",
     "exception": false,
     "start_time": "2025-09-01T15:26:06.895353",
     "status": "completed"
    },
    "tags": []
   },
   "outputs": [
    {
     "name": "stdout",
     "output_type": "stream",
     "text": [
      "First in-sample predictions: [208500. 181500. 223500. 140000. 250000.]\n",
      "Actual target values for those homes: [208500, 181500, 223500, 140000, 250000]\n",
      "Setup Complete\n"
     ]
    }
   ],
   "source": [
    "# Code you have previously used to load data\n",
    "import pandas as pd\n",
    "from sklearn.tree import DecisionTreeRegressor\n",
    "\n",
    "# Path of the file to read\n",
    "iowa_file_path = '../input/home-data-for-ml-course/train.csv'\n",
    "\n",
    "home_data = pd.read_csv(iowa_file_path)\n",
    "y = home_data.SalePrice\n",
    "feature_columns = ['LotArea', 'YearBuilt', '1stFlrSF', '2ndFlrSF', 'FullBath', 'BedroomAbvGr', 'TotRmsAbvGrd']\n",
    "X = home_data[feature_columns]\n",
    "\n",
    "# Specify Model\n",
    "iowa_model = DecisionTreeRegressor()\n",
    "# Fit Model\n",
    "iowa_model.fit(X, y)\n",
    "\n",
    "print(\"First in-sample predictions:\", iowa_model.predict(X.head()))\n",
    "print(\"Actual target values for those homes:\", y.head().tolist())\n",
    "\n",
    "# Set up code checking\n",
    "from learntools.core import binder\n",
    "binder.bind(globals())\n",
    "from learntools.machine_learning.ex4 import *\n",
    "print(\"Setup Complete\")"
   ]
  },
  {
   "cell_type": "markdown",
   "id": "d29c675b",
   "metadata": {
    "papermill": {
     "duration": 0.003355,
     "end_time": "2025-09-01T15:26:10.691385",
     "exception": false,
     "start_time": "2025-09-01T15:26:10.688030",
     "status": "completed"
    },
    "tags": []
   },
   "source": [
    "# Exercises\n",
    "\n",
    "## Step 1: Split Your Data\n",
    "Use the `train_test_split` function to split up your data.\n",
    "\n",
    "Give it the argument `random_state=1` so the `check` functions know what to expect when verifying your code.\n",
    "\n",
    "Recall, your features are loaded in the DataFrame **X** and your target is loaded in **y**.\n"
   ]
  },
  {
   "cell_type": "code",
   "execution_count": 2,
   "id": "8d419e73",
   "metadata": {
    "execution": {
     "iopub.execute_input": "2025-09-01T15:26:10.699450Z",
     "iopub.status.busy": "2025-09-01T15:26:10.699100Z",
     "iopub.status.idle": "2025-09-01T15:26:10.714926Z",
     "shell.execute_reply": "2025-09-01T15:26:10.714074Z"
    },
    "papermill": {
     "duration": 0.021627,
     "end_time": "2025-09-01T15:26:10.716394",
     "exception": false,
     "start_time": "2025-09-01T15:26:10.694767",
     "status": "completed"
    },
    "tags": []
   },
   "outputs": [
    {
     "data": {
      "application/javascript": [
       "parent.postMessage({\"jupyterEvent\": \"custom.exercise_interaction\", \"data\": {\"outcomeType\": 1, \"valueTowardsCompletion\": 0.25, \"interactionType\": 1, \"questionType\": 2, \"questionId\": \"1_SplitData\", \"learnToolsVersion\": \"0.3.5\", \"failureMessage\": \"\", \"exceptionClass\": \"\", \"trace\": \"\"}}, \"*\")"
      ],
      "text/plain": [
       "<IPython.core.display.Javascript object>"
      ]
     },
     "metadata": {},
     "output_type": "display_data"
    },
    {
     "data": {
      "text/markdown": [
       "<span style=\"color:#33cc33\">Correct</span>"
      ],
      "text/plain": [
       "Correct"
      ]
     },
     "metadata": {},
     "output_type": "display_data"
    }
   ],
   "source": [
    "# Import the train_test_split function and uncomment\n",
    "from sklearn.model_selection import train_test_split\n",
    "\n",
    "# fill in and uncomment\n",
    "train_X, val_X, train_y, val_y = train_test_split(X, y, random_state=1)\n",
    "\n",
    "# Check your answer\n",
    "step_1.check()"
   ]
  },
  {
   "cell_type": "code",
   "execution_count": 3,
   "id": "86437ebf",
   "metadata": {
    "execution": {
     "iopub.execute_input": "2025-09-01T15:26:10.725592Z",
     "iopub.status.busy": "2025-09-01T15:26:10.724914Z",
     "iopub.status.idle": "2025-09-01T15:26:10.729497Z",
     "shell.execute_reply": "2025-09-01T15:26:10.728224Z"
    },
    "papermill": {
     "duration": 0.010772,
     "end_time": "2025-09-01T15:26:10.730974",
     "exception": false,
     "start_time": "2025-09-01T15:26:10.720202",
     "status": "completed"
    },
    "tags": []
   },
   "outputs": [],
   "source": [
    "# The lines below will show you a hint or the solution.\n",
    "# step_1.hint() \n",
    "# step_1.solution()\n"
   ]
  },
  {
   "cell_type": "markdown",
   "id": "53100af2",
   "metadata": {
    "papermill": {
     "duration": 0.003375,
     "end_time": "2025-09-01T15:26:10.738057",
     "exception": false,
     "start_time": "2025-09-01T15:26:10.734682",
     "status": "completed"
    },
    "tags": []
   },
   "source": [
    "## Step 2: Specify and Fit the Model\n",
    "\n",
    "Create a `DecisionTreeRegressor` model and fit it to the relevant data.\n",
    "Set `random_state` to 1 again when creating the model."
   ]
  },
  {
   "cell_type": "code",
   "execution_count": 4,
   "id": "fb46dd97",
   "metadata": {
    "execution": {
     "iopub.execute_input": "2025-09-01T15:26:10.747191Z",
     "iopub.status.busy": "2025-09-01T15:26:10.746390Z",
     "iopub.status.idle": "2025-09-01T15:26:10.771583Z",
     "shell.execute_reply": "2025-09-01T15:26:10.770646Z"
    },
    "papermill": {
     "duration": 0.031535,
     "end_time": "2025-09-01T15:26:10.773245",
     "exception": false,
     "start_time": "2025-09-01T15:26:10.741710",
     "status": "completed"
    },
    "tags": []
   },
   "outputs": [
    {
     "name": "stdout",
     "output_type": "stream",
     "text": [
      "[186500. 184000. 130000.  92000. 164500. 220000. 335000. 144152. 215000.\n",
      " 262000.]\n",
      "[186500. 184000. 130000.  92000. 164500. 220000. 335000. 144152. 215000.\n",
      " 262000.]\n"
     ]
    },
    {
     "data": {
      "application/javascript": [
       "parent.postMessage({\"jupyterEvent\": \"custom.exercise_interaction\", \"data\": {\"outcomeType\": 1, \"valueTowardsCompletion\": 0.25, \"interactionType\": 1, \"questionType\": 2, \"questionId\": \"2_FitModelWithTrain\", \"learnToolsVersion\": \"0.3.5\", \"failureMessage\": \"\", \"exceptionClass\": \"\", \"trace\": \"\"}}, \"*\")"
      ],
      "text/plain": [
       "<IPython.core.display.Javascript object>"
      ]
     },
     "metadata": {},
     "output_type": "display_data"
    },
    {
     "data": {
      "text/markdown": [
       "<span style=\"color:#33cc33\">Correct</span>"
      ],
      "text/plain": [
       "Correct"
      ]
     },
     "metadata": {},
     "output_type": "display_data"
    }
   ],
   "source": [
    "# You imported DecisionTreeRegressor in your last exercise\n",
    "# and that code has been copied to the setup code above. So, no need to\n",
    "# import it again\n",
    "\n",
    "# Specify the model\n",
    "iowa_model = DecisionTreeRegressor(random_state=1)\n",
    "\n",
    "# Fit iowa_model with the training data.\n",
    "iowa_model.fit(train_X, train_y)\n",
    "\n",
    "# Check your answer\n",
    "step_2.check()"
   ]
  },
  {
   "cell_type": "code",
   "execution_count": 5,
   "id": "c321d1bb",
   "metadata": {
    "execution": {
     "iopub.execute_input": "2025-09-01T15:26:10.782597Z",
     "iopub.status.busy": "2025-09-01T15:26:10.781987Z",
     "iopub.status.idle": "2025-09-01T15:26:10.786337Z",
     "shell.execute_reply": "2025-09-01T15:26:10.785378Z"
    },
    "papermill": {
     "duration": 0.010425,
     "end_time": "2025-09-01T15:26:10.787827",
     "exception": false,
     "start_time": "2025-09-01T15:26:10.777402",
     "status": "completed"
    },
    "tags": []
   },
   "outputs": [],
   "source": [
    "# step_2.hint()\n",
    "# step_2.solution()"
   ]
  },
  {
   "cell_type": "markdown",
   "id": "751c1b5e",
   "metadata": {
    "papermill": {
     "duration": 0.003561,
     "end_time": "2025-09-01T15:26:10.796266",
     "exception": false,
     "start_time": "2025-09-01T15:26:10.792705",
     "status": "completed"
    },
    "tags": []
   },
   "source": [
    "## Step 3: Make Predictions with Validation data\n"
   ]
  },
  {
   "cell_type": "code",
   "execution_count": 6,
   "id": "02b6fbfb",
   "metadata": {
    "execution": {
     "iopub.execute_input": "2025-09-01T15:26:10.805203Z",
     "iopub.status.busy": "2025-09-01T15:26:10.804857Z",
     "iopub.status.idle": "2025-09-01T15:26:10.814664Z",
     "shell.execute_reply": "2025-09-01T15:26:10.813714Z"
    },
    "papermill": {
     "duration": 0.016169,
     "end_time": "2025-09-01T15:26:10.816234",
     "exception": false,
     "start_time": "2025-09-01T15:26:10.800065",
     "status": "completed"
    },
    "tags": []
   },
   "outputs": [
    {
     "data": {
      "application/javascript": [
       "parent.postMessage({\"jupyterEvent\": \"custom.exercise_interaction\", \"data\": {\"outcomeType\": 1, \"valueTowardsCompletion\": 0.25, \"interactionType\": 1, \"questionType\": 2, \"questionId\": \"3_ValPreds\", \"learnToolsVersion\": \"0.3.5\", \"failureMessage\": \"\", \"exceptionClass\": \"\", \"trace\": \"\"}}, \"*\")"
      ],
      "text/plain": [
       "<IPython.core.display.Javascript object>"
      ]
     },
     "metadata": {},
     "output_type": "display_data"
    },
    {
     "data": {
      "text/markdown": [
       "<span style=\"color:#33cc33\">Correct</span>"
      ],
      "text/plain": [
       "Correct"
      ]
     },
     "metadata": {},
     "output_type": "display_data"
    }
   ],
   "source": [
    "# Predict with all validation observations\n",
    "val_predictions = iowa_model.predict(val_X)\n",
    "\n",
    "# Check your answer\n",
    "step_3.check()"
   ]
  },
  {
   "cell_type": "code",
   "execution_count": 7,
   "id": "2a9eb02d",
   "metadata": {
    "execution": {
     "iopub.execute_input": "2025-09-01T15:26:10.825922Z",
     "iopub.status.busy": "2025-09-01T15:26:10.825345Z",
     "iopub.status.idle": "2025-09-01T15:26:10.829643Z",
     "shell.execute_reply": "2025-09-01T15:26:10.828672Z"
    },
    "papermill": {
     "duration": 0.010657,
     "end_time": "2025-09-01T15:26:10.831042",
     "exception": false,
     "start_time": "2025-09-01T15:26:10.820385",
     "status": "completed"
    },
    "tags": []
   },
   "outputs": [],
   "source": [
    "# step_3.hint()\n",
    "# step_3.solution()"
   ]
  },
  {
   "cell_type": "markdown",
   "id": "53e5422e",
   "metadata": {
    "papermill": {
     "duration": 0.003783,
     "end_time": "2025-09-01T15:26:10.838820",
     "exception": false,
     "start_time": "2025-09-01T15:26:10.835037",
     "status": "completed"
    },
    "tags": []
   },
   "source": [
    "Inspect your predictions and actual values from validation data."
   ]
  },
  {
   "cell_type": "code",
   "execution_count": 8,
   "id": "01ddb6a3",
   "metadata": {
    "execution": {
     "iopub.execute_input": "2025-09-01T15:26:10.848115Z",
     "iopub.status.busy": "2025-09-01T15:26:10.847804Z",
     "iopub.status.idle": "2025-09-01T15:26:10.861629Z",
     "shell.execute_reply": "2025-09-01T15:26:10.860534Z"
    },
    "papermill": {
     "duration": 0.020217,
     "end_time": "2025-09-01T15:26:10.863148",
     "exception": false,
     "start_time": "2025-09-01T15:26:10.842931",
     "status": "completed"
    },
    "tags": []
   },
   "outputs": [
    {
     "name": "stdout",
     "output_type": "stream",
     "text": [
      "      LotArea  YearBuilt  1stFlrSF  2ndFlrSF  FullBath  BedroomAbvGr  \\\n",
      "258     12435       2001       963       829         2             3   \n",
      "267      8400       1939      1052       720         2             4   \n",
      "288      9819       1967       900         0         1             3   \n",
      "649      1936       1970       630         0         1             1   \n",
      "1233    12160       1959      1188         0         1             3   \n",
      "\n",
      "      TotRmsAbvGrd  \n",
      "258              7  \n",
      "267              8  \n",
      "288              5  \n",
      "649              3  \n",
      "1233             6  \n",
      "   LotArea  YearBuilt  1stFlrSF  2ndFlrSF  FullBath  BedroomAbvGr  \\\n",
      "0     8450       2003       856       854         2             3   \n",
      "1     9600       1976      1262         0         2             3   \n",
      "2    11250       2001       920       866         2             3   \n",
      "3     9550       1915       961       756         1             3   \n",
      "4    14260       2000      1145      1053         2             4   \n",
      "\n",
      "   TotRmsAbvGrd  \n",
      "0             8  \n",
      "1             6  \n",
      "2             6  \n",
      "3             7  \n",
      "4             9  \n"
     ]
    }
   ],
   "source": [
    "# print the top few validation predictions\n",
    "print(val_X.head())\n",
    "# print the top few actual prices from validation data\n",
    "print(X.head())"
   ]
  },
  {
   "cell_type": "markdown",
   "id": "c3a79583",
   "metadata": {
    "papermill": {
     "duration": 0.003872,
     "end_time": "2025-09-01T15:26:10.871460",
     "exception": false,
     "start_time": "2025-09-01T15:26:10.867588",
     "status": "completed"
    },
    "tags": []
   },
   "source": [
    "What do you notice that is different from what you saw with in-sample predictions (which are printed after the top code cell in this page).\n",
    "\n",
    "Do you remember why validation predictions differ from in-sample (or training) predictions? This is an important idea from the last lesson.\n",
    "\n",
    "## Step 4: Calculate the Mean Absolute Error in Validation Data\n"
   ]
  },
  {
   "cell_type": "code",
   "execution_count": 9,
   "id": "788b486a",
   "metadata": {
    "execution": {
     "iopub.execute_input": "2025-09-01T15:26:10.881501Z",
     "iopub.status.busy": "2025-09-01T15:26:10.881173Z",
     "iopub.status.idle": "2025-09-01T15:26:10.890165Z",
     "shell.execute_reply": "2025-09-01T15:26:10.889348Z"
    },
    "papermill": {
     "duration": 0.016198,
     "end_time": "2025-09-01T15:26:10.891759",
     "exception": false,
     "start_time": "2025-09-01T15:26:10.875561",
     "status": "completed"
    },
    "tags": []
   },
   "outputs": [
    {
     "name": "stdout",
     "output_type": "stream",
     "text": [
      "29652.931506849316\n"
     ]
    },
    {
     "data": {
      "application/javascript": [
       "parent.postMessage({\"jupyterEvent\": \"custom.exercise_interaction\", \"data\": {\"outcomeType\": 1, \"valueTowardsCompletion\": 0.25, \"interactionType\": 1, \"questionType\": 1, \"questionId\": \"4_MAE\", \"learnToolsVersion\": \"0.3.5\", \"failureMessage\": \"\", \"exceptionClass\": \"\", \"trace\": \"\"}}, \"*\")"
      ],
      "text/plain": [
       "<IPython.core.display.Javascript object>"
      ]
     },
     "metadata": {},
     "output_type": "display_data"
    },
    {
     "data": {
      "text/markdown": [
       "<span style=\"color:#33cc33\">Correct</span>"
      ],
      "text/plain": [
       "Correct"
      ]
     },
     "metadata": {},
     "output_type": "display_data"
    }
   ],
   "source": [
    "from sklearn.metrics import mean_absolute_error\n",
    "val_mae = mean_absolute_error(val_y, val_predictions)\n",
    "\n",
    "# uncomment following line to see the validation_mae\n",
    "print(val_mae)\n",
    "\n",
    "# Check your answer\n",
    "step_4.check()"
   ]
  },
  {
   "cell_type": "code",
   "execution_count": 10,
   "id": "64d3dac3",
   "metadata": {
    "execution": {
     "iopub.execute_input": "2025-09-01T15:26:10.901711Z",
     "iopub.status.busy": "2025-09-01T15:26:10.901409Z",
     "iopub.status.idle": "2025-09-01T15:26:10.905420Z",
     "shell.execute_reply": "2025-09-01T15:26:10.904519Z"
    },
    "papermill": {
     "duration": 0.010853,
     "end_time": "2025-09-01T15:26:10.907010",
     "exception": false,
     "start_time": "2025-09-01T15:26:10.896157",
     "status": "completed"
    },
    "tags": []
   },
   "outputs": [],
   "source": [
    "# step_4.hint()\n",
    "# step_4.solution()"
   ]
  },
  {
   "cell_type": "markdown",
   "id": "3ad3f458",
   "metadata": {
    "papermill": {
     "duration": 0.004085,
     "end_time": "2025-09-01T15:26:10.915587",
     "exception": false,
     "start_time": "2025-09-01T15:26:10.911502",
     "status": "completed"
    },
    "tags": []
   },
   "source": [
    "Is that MAE good?  There isn't a general rule for what values are good that applies across applications. But you'll see how to use (and improve) this number in the next step.\n",
    "\n",
    "# Keep Going\n",
    "\n",
    "You are ready for **[Underfitting and Overfitting](https://www.kaggle.com/dansbecker/underfitting-and-overfitting).**\n"
   ]
  },
  {
   "cell_type": "markdown",
   "id": "0e022af3",
   "metadata": {
    "papermill": {
     "duration": 0.003928,
     "end_time": "2025-09-01T15:26:10.923832",
     "exception": false,
     "start_time": "2025-09-01T15:26:10.919904",
     "status": "completed"
    },
    "tags": []
   },
   "source": [
    "---\n",
    "\n",
    "\n",
    "\n",
    "\n",
    "*Have questions or comments? Visit the [course discussion forum](https://www.kaggle.com/learn/intro-to-machine-learning/discussion) to chat with other learners.*"
   ]
  }
 ],
 "metadata": {
  "kaggle": {
   "accelerator": "none",
   "dataSources": [
    {
     "databundleVersionId": 111096,
     "sourceId": 10211,
     "sourceType": "competition"
    },
    {
     "datasetId": 11167,
     "sourceId": 15520,
     "sourceType": "datasetVersion"
    },
    {
     "datasetId": 2709,
     "sourceId": 38454,
     "sourceType": "datasetVersion"
    }
   ],
   "isGpuEnabled": false,
   "isInternetEnabled": false,
   "language": "python",
   "sourceType": "notebook"
  },
  "kernelspec": {
   "display_name": "Python 3",
   "language": "python",
   "name": "python3"
  },
  "language_info": {
   "codemirror_mode": {
    "name": "ipython",
    "version": 3
   },
   "file_extension": ".py",
   "mimetype": "text/x-python",
   "name": "python",
   "nbconvert_exporter": "python",
   "pygments_lexer": "ipython3",
   "version": "3.11.13"
  },
  "papermill": {
   "default_parameters": {},
   "duration": 10.150812,
   "end_time": "2025-09-01T15:26:11.648206",
   "environment_variables": {},
   "exception": null,
   "input_path": "__notebook__.ipynb",
   "output_path": "__notebook__.ipynb",
   "parameters": {},
   "start_time": "2025-09-01T15:26:01.497394",
   "version": "2.6.0"
  }
 },
 "nbformat": 4,
 "nbformat_minor": 5
}
